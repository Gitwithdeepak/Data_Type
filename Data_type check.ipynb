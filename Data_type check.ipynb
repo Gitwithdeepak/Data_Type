{
 "cells": [
  {
   "cell_type": "code",
   "execution_count": null,
   "id": "31d392b7",
   "metadata": {},
   "outputs": [],
   "source": [
    "# User given any type of data and output is separated with there types.\n",
    "import ast\n",
    "t1=[]\n",
    "while True:\n",
    "    element =ast.literal_eval(input(\"enter the element :\"))\n",
    "    t1.append(element)\n",
    "    choice = input(\"want to stop?, If yes press 'yes' otherwise press any keys!\")\n",
    "    if choice==\"yes\":\n",
    "        break \n",
    "#print('lists are : ',t1)\n",
    "x1,x2,x3,x4,x5,x6=[],[],[],[],[],[]\n",
    "for e in t1:\n",
    "    if type (e)==int:\n",
    "        x1.append(e) \n",
    "    elif type (e)==float:\n",
    "        x2.append(e)\n",
    "    elif type (e)==str:\n",
    "        x3.append(e)\n",
    "    elif type (e)==bool:\n",
    "        x4.append(e)\n",
    "    elif type (e)==complex:\n",
    "        x5.append(e)\n",
    "    else:\n",
    "        x6.append(e)\n",
    "        \n",
    "x1=tuple(x1)\n",
    "x2=tuple(x2)\n",
    "x3=tuple(x3)\n",
    "x4=tuple(x4)\n",
    "x5=tuple(x5)\n",
    "x6=tuple(x6)\n",
    "print('int value is: ',x1,'float value is:',x2,'string value is:',x3,'bool value is:',x4,sep='\\n')"
   ]
  }
 ],
 "metadata": {
  "kernelspec": {
   "display_name": "Python 3 (ipykernel)",
   "language": "python",
   "name": "python3"
  },
  "language_info": {
   "codemirror_mode": {
    "name": "ipython",
    "version": 3
   },
   "file_extension": ".py",
   "mimetype": "text/x-python",
   "name": "python",
   "nbconvert_exporter": "python",
   "pygments_lexer": "ipython3",
   "version": "3.9.7"
  }
 },
 "nbformat": 4,
 "nbformat_minor": 5
}
